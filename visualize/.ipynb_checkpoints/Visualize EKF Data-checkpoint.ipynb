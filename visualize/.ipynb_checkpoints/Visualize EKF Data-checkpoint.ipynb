{
 "cells": [
  {
   "cell_type": "code",
   "execution_count": 17,
   "metadata": {},
   "outputs": [
    {
     "name": "stderr",
     "output_type": "stream",
     "text": [
      "IOPub data rate exceeded.\n",
      "The notebook server will temporarily stop sending output\n",
      "to the client in order to avoid crashing it.\n",
      "To change this limit, set the config variable\n",
      "`--NotebookApp.iopub_data_rate_limit`.\n"
     ]
    }
   ],
   "source": [
    "import pandas\n",
    "import plotly.offline as py\n",
    "import plotly.graph_objs as go\n",
    "py.init_notebook_mode() "
   ]
  },
  {
   "cell_type": "code",
   "execution_count": 15,
   "metadata": {},
   "outputs": [],
   "source": [
    "# read input and output data\n",
    "headers_out = [\"px\", \"py\", \"vx\", \"vy\", \"px_s\", \"py_s\", \"px_gt\", \"py_gt\", \"vx_gt\", \"vy_gt\"]\n",
    "out = pandas.read_csv('../build/output.txt', delimiter='\\t', names=headers_out)\n",
    "\n",
    "headers_inp = [\n",
    "    \"sensor_type\",\n",
    "    \"rho_measured\", \"phi_measured\", \"rhodot_measured\",\n",
    "    \"timestamp\",\n",
    "    \"x_groundtruth\", \"y_groundtruth\", \"vx_groundtruth\", \"vy_groundtruth\", \"yaw_groundtruth\", \"yawrate_groundtruth\"]\n",
    "inp = pandas.read_csv('../data/obj_pose-laser-radar-synthetic-input.txt', delimiter=\"\\t\", names=headers_inp)\n",
    "radar = inp[inp[\"sensor_type\"] == \"R\"]\n",
    "\n",
    "headers_inp = [\n",
    "    \"sensor_type\",\n",
    "    \"x_measured\", \"y_measured\",\n",
    "    \"timestamp\",\n",
    "    \"x_groundtruth\", \"y_groundtruth\", \"vx_groundtruth\", \"vy_groundtruth\", \"yaw_groundtruth\", \"yawrate_groundtruth\"]\n",
    "inp = pandas.read_csv('../data/obj_pose-laser-radar-synthetic-input.txt', delimiter=\"\\t\", names=headers_inp)\n",
    "lidar = inp[inp[\"sensor_type\"] == \"L\"]\n"
   ]
  },
  {
   "cell_type": "code",
   "execution_count": 16,
   "metadata": {},
   "outputs": [
    {
     "ename": "PlotlyError",
     "evalue": "Plotly Offline mode has not been initialized in this notebook. Run: \n\nimport plotly\nplotly.offline.init_notebook_mode() # run at the start of every ipython notebook",
     "output_type": "error",
     "traceback": [
      "\u001b[1;31m---------------------------------------------------------------------------\u001b[0m",
      "\u001b[1;31mPlotlyError\u001b[0m                               Traceback (most recent call last)",
      "\u001b[1;32m<ipython-input-16-166312c8b2c3>\u001b[0m in \u001b[0;36m<module>\u001b[1;34m()\u001b[0m\n\u001b[0;32m      9\u001b[0m \u001b[1;33m\u001b[0m\u001b[0m\n\u001b[0;32m     10\u001b[0m \u001b[1;31m# Plot and embed in ipython notebook!\u001b[0m\u001b[1;33m\u001b[0m\u001b[1;33m\u001b[0m\u001b[0m\n\u001b[1;32m---> 11\u001b[1;33m \u001b[0mpy\u001b[0m\u001b[1;33m.\u001b[0m\u001b[0miplot\u001b[0m\u001b[1;33m(\u001b[0m\u001b[0mdata\u001b[0m\u001b[1;33m,\u001b[0m \u001b[0mfilename\u001b[0m\u001b[1;33m=\u001b[0m\u001b[1;34m'basic-scatter'\u001b[0m\u001b[1;33m)\u001b[0m\u001b[1;33m\u001b[0m\u001b[0m\n\u001b[0m",
      "\u001b[1;32mC:\\Users\\Nicolas\\Anaconda3\\envs\\tf35\\lib\\site-packages\\plotly\\offline\\offline.py\u001b[0m in \u001b[0;36miplot\u001b[1;34m(figure_or_data, show_link, link_text, validate, image, filename, image_width, image_height, config)\u001b[0m\n\u001b[0;32m    329\u001b[0m             \u001b[1;34m''\u001b[0m\u001b[1;33m,\u001b[0m\u001b[1;33m\u001b[0m\u001b[0m\n\u001b[0;32m    330\u001b[0m             \u001b[1;34m'import plotly'\u001b[0m\u001b[1;33m,\u001b[0m\u001b[1;33m\u001b[0m\u001b[0m\n\u001b[1;32m--> 331\u001b[1;33m             \u001b[1;34m'plotly.offline.init_notebook_mode() '\u001b[0m\u001b[1;33m\u001b[0m\u001b[0m\n\u001b[0m\u001b[0;32m    332\u001b[0m             \u001b[1;34m'# run at the start of every ipython notebook'\u001b[0m\u001b[1;33m,\u001b[0m\u001b[1;33m\u001b[0m\u001b[0m\n\u001b[0;32m    333\u001b[0m         ]))\n",
      "\u001b[1;31mPlotlyError\u001b[0m: Plotly Offline mode has not been initialized in this notebook. Run: \n\nimport plotly\nplotly.offline.init_notebook_mode() # run at the start of every ipython notebook"
     ]
    }
   ],
   "source": [
    "# Create a trace\n",
    "trace = go.Scatter(\n",
    "    x = out[\"px_gt\"],\n",
    "    y = out[\"py_gt\"],\n",
    "    mode = 'markers'\n",
    ")\n",
    "\n",
    "data = [trace]\n",
    "\n",
    "# Plot and embed in ipython notebook!\n",
    "py.iplot(data, filename='basic-scatter')"
   ]
  },
  {
   "cell_type": "code",
   "execution_count": null,
   "metadata": {
    "collapsed": true
   },
   "outputs": [],
   "source": []
  }
 ],
 "metadata": {
  "kernelspec": {
   "display_name": "Python 3",
   "language": "python",
   "name": "python3"
  },
  "language_info": {
   "codemirror_mode": {
    "name": "ipython",
    "version": 3
   },
   "file_extension": ".py",
   "mimetype": "text/x-python",
   "name": "python",
   "nbconvert_exporter": "python",
   "pygments_lexer": "ipython3",
   "version": "3.5.3"
  }
 },
 "nbformat": 4,
 "nbformat_minor": 2
}
